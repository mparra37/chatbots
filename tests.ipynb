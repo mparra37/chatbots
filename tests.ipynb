{
 "cells": [
  {
   "cell_type": "code",
   "execution_count": 1,
   "id": "e5ee33ca",
   "metadata": {},
   "outputs": [
    {
     "data": {
      "text/html": [
       "<p>Hello, Jupyter Notebook!</p>"
      ],
      "text/plain": [
       "<IPython.core.display.HTML object>"
      ]
     },
     "metadata": {},
     "output_type": "display_data"
    }
   ],
   "source": [
    "from IPython.display import display, HTML\n",
    "\n",
    "# Define your message\n",
    "message = \"Hello, Jupyter Notebook!\"\n",
    "\n",
    "# Display the message using HTML\n",
    "display(HTML(f\"<p>{message}</p>\"))\n"
   ]
  },
  {
   "cell_type": "code",
   "execution_count": 2,
   "id": "4d6bb64e",
   "metadata": {},
   "outputs": [
    {
     "data": {
      "text/html": [
       "\n",
       "<h1 style=\"color: blue;\">Hello, Jupyter Notebook!</h1>\n",
       "<p>This is a formatted message.</p>\n",
       "<a href=\"https://www.example.com\">Click here for more info</a>\n"
      ],
      "text/plain": [
       "<IPython.core.display.HTML object>"
      ]
     },
     "metadata": {},
     "output_type": "display_data"
    }
   ],
   "source": [
    "from IPython.display import display, HTML\n",
    "\n",
    "# Define a formatted message\n",
    "formatted_message = \"\"\"\n",
    "<h1 style=\"color: blue;\">Hello, Jupyter Notebook!</h1>\n",
    "<p>This is a formatted message.</p>\n",
    "<a href=\"https://www.example.com\">Click here for more info</a>\n",
    "\"\"\"\n",
    "\n",
    "# Display the formatted message using HTML\n",
    "display(HTML(formatted_message))\n"
   ]
  },
  {
   "cell_type": "code",
   "execution_count": 3,
   "id": "a11ed02e",
   "metadata": {},
   "outputs": [
    {
     "data": {
      "text/html": [
       "\n",
       "<script>\n",
       "    // Function to display a pop-up message\n",
       "    function showMessage() {\n",
       "        alert(\"This is a pop-up message!\");\n",
       "    }\n",
       "</script>\n",
       "<button onclick=\"showMessage()\">Click me for a pop-up</button>\n"
      ],
      "text/plain": [
       "<IPython.core.display.HTML object>"
      ]
     },
     "execution_count": 3,
     "metadata": {},
     "output_type": "execute_result"
    }
   ],
   "source": [
    "from IPython.display import HTML\n",
    "\n",
    "# Define a JavaScript code that displays a pop-up message when executed\n",
    "javascript_code = \"\"\"\n",
    "<script>\n",
    "    // Function to display a pop-up message\n",
    "    function showMessage() {\n",
    "        alert(\"This is a pop-up message!\");\n",
    "    }\n",
    "</script>\n",
    "<button onclick=\"showMessage()\">Click me for a pop-up</button>\n",
    "\"\"\"\n",
    "\n",
    "# Display the JavaScript code as HTML\n",
    "HTML(javascript_code)\n"
   ]
  },
  {
   "cell_type": "code",
   "execution_count": 4,
   "id": "2670ca24",
   "metadata": {},
   "outputs": [
    {
     "name": "stdout",
     "output_type": "stream",
     "text": [
      "Requirement already satisfied: pydub in c:\\users\\mario\\appdata\\local\\programs\\python\\python311\\lib\\site-packages (0.25.1)\n"
     ]
    }
   ],
   "source": [
    "!pip install pydub\n"
   ]
  },
  {
   "cell_type": "code",
   "execution_count": 5,
   "id": "be2bee7f",
   "metadata": {},
   "outputs": [],
   "source": [
    "from pydub import AudioSegment\n",
    "from pydub.playback import play\n",
    "\n",
    "# Load the audio file (replace 'loading_sound.mp3' with your audio file path)\n",
    "loading_sound = AudioSegment.from_file('loading.mp3')\n",
    "\n",
    "# Play the loading sound\n",
    "play(loading_sound)\n"
   ]
  },
  {
   "cell_type": "code",
   "execution_count": 1,
   "id": "6c591496",
   "metadata": {},
   "outputs": [
    {
     "name": "stdout",
     "output_type": "stream",
     "text": [
      "Collecting pyttsx3\n",
      "  Downloading pyttsx3-2.90-py3-none-any.whl (39 kB)\n",
      "Collecting comtypes (from pyttsx3)\n",
      "  Downloading comtypes-1.2.0-py2.py3-none-any.whl.metadata (3.7 kB)\n",
      "Collecting pypiwin32 (from pyttsx3)\n",
      "  Downloading pypiwin32-223-py3-none-any.whl (1.7 kB)\n",
      "Requirement already satisfied: pywin32 in c:\\users\\mario\\appdata\\local\\programs\\python\\python311\\lib\\site-packages (from pyttsx3) (306)\n",
      "Downloading comtypes-1.2.0-py2.py3-none-any.whl (184 kB)\n",
      "   ---------------------------------------- 0.0/184.3 kB ? eta -:--:--\n",
      "   ---------------------------------------- 184.3/184.3 kB 5.4 MB/s eta 0:00:00\n",
      "Installing collected packages: comtypes, pypiwin32, pyttsx3\n",
      "Successfully installed comtypes-1.2.0 pypiwin32-223 pyttsx3-2.90\n"
     ]
    }
   ],
   "source": [
    "!pip install pyttsx3\n"
   ]
  },
  {
   "cell_type": "code",
   "execution_count": 9,
   "id": "a69a3b1e",
   "metadata": {},
   "outputs": [
    {
     "name": "stdout",
     "output_type": "stream",
     "text": [
      "Current speech rate: 150\n"
     ]
    }
   ],
   "source": [
    "import pyttsx3\n",
    "\n",
    "engine = pyttsx3.init()\n",
    "voices = engine.getProperty('voices')\n",
    "\n",
    "# Selecting a Spanish voice, if available\n",
    "#for voice in voices:\n",
    "#    if 'spanish' in voice.name.lower():\n",
    "#        engine.setProperty('voice', voice.id)\n",
    "#        break\n",
    "# Get current speech rate\n",
    "current_rate = engine.getProperty('rate')\n",
    "print(f\"Current speech rate: {current_rate}\")\n",
    "\n",
    "# Set a slower speech rate (you can adjust this value)\n",
    "new_rate = 150  # Default is usually around 200\n",
    "engine.setProperty('rate', new_rate)\n",
    "\n",
    "        \n",
    "engine.setProperty('voice', \"HKEY_LOCAL_MACHINE\\SOFTWARE\\Microsoft\\Speech\\Voices\\Tokens\\TTS_MS_ES-MX_SABINA_11.0\")        \n",
    "\n",
    "engine.say(\"Bienvenido, este es una cata de vino en la que disfrutarás mucho la experiencia\")\n",
    "engine.runAndWait()\n"
   ]
  },
  {
   "cell_type": "code",
   "execution_count": 6,
   "id": "7653154d",
   "metadata": {},
   "outputs": [
    {
     "name": "stdout",
     "output_type": "stream",
     "text": [
      "ID: HKEY_LOCAL_MACHINE\\SOFTWARE\\Microsoft\\Speech\\Voices\\Tokens\\TTS_MS_ES-ES_HELENA_11.0\n",
      "Name: Microsoft Helena Desktop - Spanish (Spain)\n",
      "Languages: []\n",
      "Gender: None\n",
      "Age: None\n",
      "\n",
      "\n",
      "ID: HKEY_LOCAL_MACHINE\\SOFTWARE\\Microsoft\\Speech\\Voices\\Tokens\\TTS_MS_EN-US_ZIRA_11.0\n",
      "Name: Microsoft Zira Desktop - English (United States)\n",
      "Languages: []\n",
      "Gender: None\n",
      "Age: None\n",
      "\n",
      "\n",
      "ID: HKEY_LOCAL_MACHINE\\SOFTWARE\\Microsoft\\Speech\\Voices\\Tokens\\TTS_MS_EN-US_DAVID_11.0\n",
      "Name: Microsoft David Desktop - English (United States)\n",
      "Languages: []\n",
      "Gender: None\n",
      "Age: None\n",
      "\n",
      "\n",
      "ID: HKEY_LOCAL_MACHINE\\SOFTWARE\\Microsoft\\Speech\\Voices\\Tokens\\TTS_MS_ES-MX_SABINA_11.0\n",
      "Name: Microsoft Sabina Desktop - Spanish (Mexico)\n",
      "Languages: []\n",
      "Gender: None\n",
      "Age: None\n",
      "\n",
      "\n"
     ]
    }
   ],
   "source": [
    "import pyttsx3\n",
    "\n",
    "engine = pyttsx3.init()\n",
    "voices = engine.getProperty('voices')\n",
    "\n",
    "for voice in voices:\n",
    "    print(f\"ID: {voice.id}\")\n",
    "    print(f\"Name: {voice.name}\")\n",
    "    print(f\"Languages: {voice.languages}\")\n",
    "    print(f\"Gender: {voice.gender}\")\n",
    "    print(f\"Age: {voice.age}\")\n",
    "    print(\"\\n\")\n",
    "    \n",
    "    engine.setProperty('voice', voice.id)\n",
    "    engine.say(\"Bienvenido, este es una cata de vino en la que disfrutarás mucho la experiencia\")\n",
    "    engine.runAndWait()\n"
   ]
  },
  {
   "cell_type": "code",
   "execution_count": null,
   "id": "ad14c334",
   "metadata": {},
   "outputs": [],
   "source": []
  }
 ],
 "metadata": {
  "kernelspec": {
   "display_name": "Python 3 (ipykernel)",
   "language": "python",
   "name": "python3"
  },
  "language_info": {
   "codemirror_mode": {
    "name": "ipython",
    "version": 3
   },
   "file_extension": ".py",
   "mimetype": "text/x-python",
   "name": "python",
   "nbconvert_exporter": "python",
   "pygments_lexer": "ipython3",
   "version": "3.11.3"
  }
 },
 "nbformat": 4,
 "nbformat_minor": 5
}
