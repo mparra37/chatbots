{
 "cells": [
  {
   "cell_type": "code",
   "execution_count": 1,
   "id": "e5ee33ca",
   "metadata": {},
   "outputs": [
    {
     "data": {
      "text/html": [
       "<p>Hello, Jupyter Notebook!</p>"
      ],
      "text/plain": [
       "<IPython.core.display.HTML object>"
      ]
     },
     "metadata": {},
     "output_type": "display_data"
    }
   ],
   "source": [
    "from IPython.display import display, HTML\n",
    "\n",
    "# Define your message\n",
    "message = \"Hello, Jupyter Notebook!\"\n",
    "\n",
    "# Display the message using HTML\n",
    "display(HTML(f\"<p>{message}</p>\"))\n"
   ]
  },
  {
   "cell_type": "code",
   "execution_count": 2,
   "id": "4d6bb64e",
   "metadata": {},
   "outputs": [
    {
     "data": {
      "text/html": [
       "\n",
       "<h1 style=\"color: blue;\">Hello, Jupyter Notebook!</h1>\n",
       "<p>This is a formatted message.</p>\n",
       "<a href=\"https://www.example.com\">Click here for more info</a>\n"
      ],
      "text/plain": [
       "<IPython.core.display.HTML object>"
      ]
     },
     "metadata": {},
     "output_type": "display_data"
    }
   ],
   "source": [
    "from IPython.display import display, HTML\n",
    "\n",
    "# Define a formatted message\n",
    "formatted_message = \"\"\"\n",
    "<h1 style=\"color: blue;\">Hello, Jupyter Notebook!</h1>\n",
    "<p>This is a formatted message.</p>\n",
    "<a href=\"https://www.example.com\">Click here for more info</a>\n",
    "\"\"\"\n",
    "\n",
    "# Display the formatted message using HTML\n",
    "display(HTML(formatted_message))\n"
   ]
  },
  {
   "cell_type": "code",
   "execution_count": 3,
   "id": "a11ed02e",
   "metadata": {},
   "outputs": [
    {
     "data": {
      "text/html": [
       "\n",
       "<script>\n",
       "    // Function to display a pop-up message\n",
       "    function showMessage() {\n",
       "        alert(\"This is a pop-up message!\");\n",
       "    }\n",
       "</script>\n",
       "<button onclick=\"showMessage()\">Click me for a pop-up</button>\n"
      ],
      "text/plain": [
       "<IPython.core.display.HTML object>"
      ]
     },
     "execution_count": 3,
     "metadata": {},
     "output_type": "execute_result"
    }
   ],
   "source": [
    "from IPython.display import HTML\n",
    "\n",
    "# Define a JavaScript code that displays a pop-up message when executed\n",
    "javascript_code = \"\"\"\n",
    "<script>\n",
    "    // Function to display a pop-up message\n",
    "    function showMessage() {\n",
    "        alert(\"This is a pop-up message!\");\n",
    "    }\n",
    "</script>\n",
    "<button onclick=\"showMessage()\">Click me for a pop-up</button>\n",
    "\"\"\"\n",
    "\n",
    "# Display the JavaScript code as HTML\n",
    "HTML(javascript_code)\n"
   ]
  },
  {
   "cell_type": "code",
   "execution_count": 4,
   "id": "2670ca24",
   "metadata": {},
   "outputs": [
    {
     "name": "stdout",
     "output_type": "stream",
     "text": [
      "Requirement already satisfied: pydub in c:\\users\\mario\\appdata\\local\\programs\\python\\python311\\lib\\site-packages (0.25.1)\n"
     ]
    }
   ],
   "source": [
    "!pip install pydub\n"
   ]
  },
  {
   "cell_type": "code",
   "execution_count": 5,
   "id": "be2bee7f",
   "metadata": {},
   "outputs": [],
   "source": [
    "from pydub import AudioSegment\n",
    "from pydub.playback import play\n",
    "\n",
    "# Load the audio file (replace 'loading_sound.mp3' with your audio file path)\n",
    "loading_sound = AudioSegment.from_file('loading.mp3')\n",
    "\n",
    "# Play the loading sound\n",
    "play(loading_sound)\n"
   ]
  },
  {
   "cell_type": "code",
   "execution_count": null,
   "id": "6c591496",
   "metadata": {},
   "outputs": [],
   "source": []
  }
 ],
 "metadata": {
  "kernelspec": {
   "display_name": "Python 3 (ipykernel)",
   "language": "python",
   "name": "python3"
  },
  "language_info": {
   "codemirror_mode": {
    "name": "ipython",
    "version": 3
   },
   "file_extension": ".py",
   "mimetype": "text/x-python",
   "name": "python",
   "nbconvert_exporter": "python",
   "pygments_lexer": "ipython3",
   "version": "3.11.3"
  }
 },
 "nbformat": 4,
 "nbformat_minor": 5
}
