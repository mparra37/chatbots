{
 "cells": [
  {
   "cell_type": "code",
   "execution_count": 1,
   "id": "8ea3bdf8",
   "metadata": {},
   "outputs": [
    {
     "name": "stdout",
     "output_type": "stream",
     "text": [
      "Collecting git+https://github.com/openai/whisper.git\n",
      "  Cloning https://github.com/openai/whisper.git to c:\\users\\mario\\appdata\\local\\temp\\pip-req-build-za0g2dx9\n",
      "  Resolved https://github.com/openai/whisper.git to commit 1cea4357687b676b293cb5473e1ade25f5b1cef7\n",
      "  Installing build dependencies: started\n",
      "  Installing build dependencies: finished with status 'done'\n",
      "  Getting requirements to build wheel: started\n",
      "  Getting requirements to build wheel: finished with status 'done'\n",
      "  Preparing metadata (pyproject.toml): started\n",
      "  Preparing metadata (pyproject.toml): finished with status 'done'\n",
      "Collecting numba\n",
      "  Using cached numba-0.58.1-cp311-cp311-win_amd64.whl (2.6 MB)\n",
      "Requirement already satisfied: numpy in c:\\users\\mario\\appdata\\local\\programs\\python\\python311\\lib\\site-packages (from openai-whisper==20231106) (1.24.3)\n",
      "Requirement already satisfied: torch in c:\\users\\mario\\appdata\\local\\programs\\python\\python311\\lib\\site-packages (from openai-whisper==20231106) (2.1.1)\n",
      "Requirement already satisfied: tqdm in c:\\users\\mario\\appdata\\local\\programs\\python\\python311\\lib\\site-packages (from openai-whisper==20231106) (4.65.0)\n",
      "Requirement already satisfied: more-itertools in c:\\users\\mario\\appdata\\local\\programs\\python\\python311\\lib\\site-packages (from openai-whisper==20231106) (10.1.0)\n",
      "Collecting tiktoken\n",
      "  Using cached tiktoken-0.5.1-cp311-cp311-win_amd64.whl (759 kB)\n",
      "Requirement already satisfied: llvmlite<0.42,>=0.41.0dev0 in c:\\users\\mario\\appdata\\local\\programs\\python\\python311\\lib\\site-packages (from numba->openai-whisper==20231106) (0.41.1)\n",
      "Requirement already satisfied: regex>=2022.1.18 in c:\\users\\mario\\appdata\\local\\programs\\python\\python311\\lib\\site-packages (from tiktoken->openai-whisper==20231106) (2023.10.3)\n",
      "Requirement already satisfied: requests>=2.26.0 in c:\\users\\mario\\appdata\\local\\programs\\python\\python311\\lib\\site-packages (from tiktoken->openai-whisper==20231106) (2.31.0)\n",
      "Requirement already satisfied: filelock in c:\\users\\mario\\appdata\\local\\programs\\python\\python311\\lib\\site-packages (from torch->openai-whisper==20231106) (3.13.1)\n",
      "Requirement already satisfied: typing-extensions in c:\\users\\mario\\appdata\\local\\programs\\python\\python311\\lib\\site-packages (from torch->openai-whisper==20231106) (4.6.3)\n",
      "Requirement already satisfied: sympy in c:\\users\\mario\\appdata\\local\\programs\\python\\python311\\lib\\site-packages (from torch->openai-whisper==20231106) (1.12)\n",
      "Requirement already satisfied: networkx in c:\\users\\mario\\appdata\\local\\programs\\python\\python311\\lib\\site-packages (from torch->openai-whisper==20231106) (3.2.1)\n",
      "Requirement already satisfied: jinja2 in c:\\users\\mario\\appdata\\local\\programs\\python\\python311\\lib\\site-packages (from torch->openai-whisper==20231106) (3.1.2)\n",
      "Requirement already satisfied: fsspec in c:\\users\\mario\\appdata\\local\\programs\\python\\python311\\lib\\site-packages (from torch->openai-whisper==20231106) (2023.10.0)\n",
      "Requirement already satisfied: colorama in c:\\users\\mario\\appdata\\local\\programs\\python\\python311\\lib\\site-packages (from tqdm->openai-whisper==20231106) (0.4.6)\n",
      "Requirement already satisfied: charset-normalizer<4,>=2 in c:\\users\\mario\\appdata\\local\\programs\\python\\python311\\lib\\site-packages (from requests>=2.26.0->tiktoken->openai-whisper==20231106) (3.1.0)\n",
      "Requirement already satisfied: idna<4,>=2.5 in c:\\users\\mario\\appdata\\local\\programs\\python\\python311\\lib\\site-packages (from requests>=2.26.0->tiktoken->openai-whisper==20231106) (3.4)\n",
      "Requirement already satisfied: urllib3<3,>=1.21.1 in c:\\users\\mario\\appdata\\local\\programs\\python\\python311\\lib\\site-packages (from requests>=2.26.0->tiktoken->openai-whisper==20231106) (2.0.2)\n",
      "Requirement already satisfied: certifi>=2017.4.17 in c:\\users\\mario\\appdata\\local\\programs\\python\\python311\\lib\\site-packages (from requests>=2.26.0->tiktoken->openai-whisper==20231106) (2023.5.7)\n",
      "Requirement already satisfied: MarkupSafe>=2.0 in c:\\users\\mario\\appdata\\local\\programs\\python\\python311\\lib\\site-packages (from jinja2->torch->openai-whisper==20231106) (2.1.3)\n",
      "Requirement already satisfied: mpmath>=0.19 in c:\\users\\mario\\appdata\\local\\programs\\python\\python311\\lib\\site-packages (from sympy->torch->openai-whisper==20231106) (1.3.0)\n",
      "Building wheels for collected packages: openai-whisper\n",
      "  Building wheel for openai-whisper (pyproject.toml): started\n",
      "  Building wheel for openai-whisper (pyproject.toml): finished with status 'done'\n",
      "  Created wheel for openai-whisper: filename=openai_whisper-20231106-py3-none-any.whl size=810671 sha256=cee93da656846175680916ab8b222c53934e6d3e8cf4b676bc2e2bf9b5f5235d\n",
      "  Stored in directory: C:\\Users\\Mario\\AppData\\Local\\Temp\\pip-ephem-wheel-cache-a96xdaeu\\wheels\\1f\\1d\\98\\9583695e6695a6ac0ad42d87511097dce5ba486647dbfecb0e\n",
      "Successfully built openai-whisper\n",
      "Installing collected packages: numba, tiktoken, openai-whisper\n",
      "Successfully installed numba-0.58.1 openai-whisper-20231106 tiktoken-0.5.1\n"
     ]
    },
    {
     "name": "stderr",
     "output_type": "stream",
     "text": [
      "  Running command git clone --filter=blob:none --quiet https://github.com/openai/whisper.git 'C:\\Users\\Mario\\AppData\\Local\\Temp\\pip-req-build-za0g2dx9'\n",
      "\n",
      "[notice] A new release of pip available: 22.3.1 -> 23.3.1\n",
      "[notice] To update, run: python.exe -m pip install --upgrade pip\n"
     ]
    }
   ],
   "source": [
    "!pip install git+https://github.com/openai/whisper.git\n"
   ]
  },
  {
   "cell_type": "code",
   "execution_count": 2,
   "id": "cfc74399",
   "metadata": {},
   "outputs": [
    {
     "name": "stdout",
     "output_type": "stream",
     "text": [
      "Collecting sounddevice\n",
      "  Downloading sounddevice-0.4.6-py3-none-win_amd64.whl (199 kB)\n",
      "     ------------------------------------- 199.7/199.7 kB 11.8 MB/s eta 0:00:00\n",
      "Requirement already satisfied: CFFI>=1.0 in c:\\users\\mario\\appdata\\local\\programs\\python\\python311\\lib\\site-packages (from sounddevice) (1.15.1)\n",
      "Requirement already satisfied: pycparser in c:\\users\\mario\\appdata\\local\\programs\\python\\python311\\lib\\site-packages (from CFFI>=1.0->sounddevice) (2.21)\n",
      "Installing collected packages: sounddevice\n",
      "Successfully installed sounddevice-0.4.6\n"
     ]
    },
    {
     "name": "stderr",
     "output_type": "stream",
     "text": [
      "\n",
      "[notice] A new release of pip available: 22.3.1 -> 23.3.1\n",
      "[notice] To update, run: python.exe -m pip install --upgrade pip\n"
     ]
    }
   ],
   "source": [
    "!pip install sounddevice\n"
   ]
  },
  {
   "cell_type": "code",
   "execution_count": 2,
   "id": "fd223fb4",
   "metadata": {},
   "outputs": [
    {
     "name": "stdout",
     "output_type": "stream",
     "text": [
      "Recording...\n",
      "Recording finished\n"
     ]
    }
   ],
   "source": [
    "import sounddevice as sd\n",
    "import numpy as np\n",
    "import scipy.io.wavfile as wav\n",
    "\n",
    "fs = 44100  # Sample rate\n",
    "seconds = 5  # Duration of recording\n",
    "\n",
    "print(\"Recording...\")\n",
    "myrecording = sd.rec(int(seconds * fs), samplerate=fs, channels=2)\n",
    "sd.wait()  # Wait until recording is finished\n",
    "print(\"Recording finished\")\n",
    "\n",
    "# Save as WAV file \n",
    "wav.write('output.wav', fs, myrecording)  # Save as WAV file \n"
   ]
  },
  {
   "cell_type": "code",
   "execution_count": 51,
   "id": "eae14db2",
   "metadata": {},
   "outputs": [
    {
     "name": "stdout",
     "output_type": "stream",
     "text": [
      " Hola, estoy tratando de grabar porque es una prueba.\n"
     ]
    }
   ],
   "source": [
    "import whisper\n",
    "\n",
    "model = whisper.load_model(\"base\")  # or another model size based on your preference\n",
    "result = model.transcribe(\"output.wav\")\n",
    "print(result[\"text\"])\n"
   ]
  },
  {
   "cell_type": "code",
   "execution_count": 14,
   "id": "8327f6d7",
   "metadata": {},
   "outputs": [
    {
     "name": "stdout",
     "output_type": "stream",
     "text": [
      "Monitoring for voice activity...\n",
      "Starting recording...\n",
      "Stopping recording due to silence.\n",
      "Recording saved as 'output.wav'\n"
     ]
    }
   ],
   "source": [
    "import sounddevice as sd\n",
    "import numpy as np\n",
    "import scipy.io.wavfile as wav\n",
    "import queue\n",
    "\n",
    "fs = 44100  # Sample rate\n",
    "chunk_size = 1024  # Size of each audio chunk\n",
    "silence_threshold = 0.02  # Adjust this based on your noise conditions\n",
    "silence_duration = 2  # Duration of silence in seconds to stop recording\n",
    "recording_timeout = 20  # Maximum recording duration in seconds\n",
    "\n",
    "# Queue to hold audio chunks\n",
    "audio_queue = queue.Queue()\n",
    "\n",
    "# Callback function to capture audio chunks\n",
    "def callback(indata, frames, time, status):\n",
    "    audio_queue.put(indata.copy())\n",
    "\n",
    "# Open a stream for continuous audio input\n",
    "stream = sd.InputStream(callback=callback, channels=2, samplerate=fs, blocksize=chunk_size)\n",
    "stream.start()\n",
    "\n",
    "# Variables for managing recording state\n",
    "recording = False\n",
    "data = []\n",
    "silence_counter = 0\n",
    "\n",
    "print(\"Monitoring for voice activity...\")\n",
    "\n",
    "try:\n",
    "    while True:\n",
    "        chunk = audio_queue.get()\n",
    "        if np.max(np.abs(chunk)) > silence_threshold:\n",
    "            if not recording:\n",
    "                print(\"Starting recording...\")\n",
    "                recording = True\n",
    "                data = [chunk]\n",
    "            else:\n",
    "                data.append(chunk)\n",
    "            silence_counter = 0\n",
    "        elif recording:\n",
    "            silence_counter += chunk_size / fs\n",
    "            data.append(chunk)\n",
    "            if silence_counter >= silence_duration:\n",
    "                print(\"Stopping recording due to silence.\")\n",
    "                break\n",
    "except KeyboardInterrupt:\n",
    "    print(\"\\nRecording stopped manually.\")\n",
    "\n",
    "stream.stop()\n",
    "stream.close()\n",
    "\n",
    "# Combine chunks into a single array and save as WAV file\n",
    "if data:\n",
    "    recording_data = np.concatenate(data, axis=0)\n",
    "    wav.write('output.wav', fs, recording_data)\n",
    "    print(\"Recording saved as 'output.wav'\")\n",
    "else:\n",
    "    print(\"No voice activity detected.\")\n"
   ]
  },
  {
   "cell_type": "markdown",
   "id": "d77df538",
   "metadata": {},
   "source": [
    "### Add sound"
   ]
  },
  {
   "cell_type": "code",
   "execution_count": 63,
   "id": "493604cb",
   "metadata": {},
   "outputs": [
    {
     "name": "stdout",
     "output_type": "stream",
     "text": [
      "Monitoring for voice activity...\n",
      "Starting recording...\n",
      "Stopping recording due to silence.\n",
      "Recording saved as 'output.wav'\n"
     ]
    }
   ],
   "source": [
    "import sounddevice as sd\n",
    "import numpy as np\n",
    "import scipy.io.wavfile as wav\n",
    "import queue\n",
    "\n",
    "fs = 44100  # Sample rate\n",
    "chunk_size = 1024  # Size of each audio chunk\n",
    "silence_threshold = 0.02  # Adjust this based on your noise conditions\n",
    "silence_duration = 2  # Duration of silence in seconds to stop recording\n",
    "recording_timeout = 10  # Maximum recording duration in seconds\n",
    "\n",
    "duration = 0.2  # seconds\n",
    "frequency = 440  # Hz\n",
    "t = np.linspace(0, duration, int(fs * duration), endpoint=False)\n",
    "beep_sound = np.sin(2 * np.pi * frequency * t)\n",
    "\n",
    "# Load start and end sounds\n",
    "start_sound, _ = wav.read('start_sound.wav')\n",
    "end_sound, _ = wav.read('end_sound.wav')\n",
    "\n",
    "# Function to play a sound\n",
    "def play_sound(sound):\n",
    "    sd.play(sound, fs)\n",
    "    sd.wait()\n",
    "\n",
    "# Queue to hold audio chunks\n",
    "audio_queue = queue.Queue()\n",
    "\n",
    "# Callback function to capture audio chunks\n",
    "def callback(indata, frames, time, status):\n",
    "    audio_queue.put(indata.copy())\n",
    "\n",
    "# Open a stream for continuous audio input\n",
    "stream = sd.InputStream(callback=callback, channels=2, samplerate=fs, blocksize=chunk_size)\n",
    "stream.start()\n",
    "\n",
    "# Variables for managing recording state\n",
    "recording = False\n",
    "data = []\n",
    "silence_counter = 0\n",
    "\n",
    "print(\"Monitoring for voice activity...\")\n",
    "\n",
    "\n",
    "try:\n",
    "    while True:\n",
    "        chunk = audio_queue.get()\n",
    "        if np.max(np.abs(chunk)) > silence_threshold:\n",
    "            if not recording:\n",
    "                print(\"Starting recording...\")\n",
    "                 # Play start sound\n",
    "                play_sound(beep_sound)\n",
    "                recording = True\n",
    "                data = [chunk]\n",
    "            else:\n",
    "                data.append(chunk)\n",
    "            silence_counter = 0\n",
    "        elif recording:\n",
    "            silence_counter += chunk_size / fs\n",
    "            data.append(chunk)\n",
    "            if silence_counter >= silence_duration:\n",
    "                print(\"Stopping recording due to silence.\")\n",
    "                play_sound(beep_sound)  # Play end sound\n",
    "                break\n",
    "except KeyboardInterrupt:\n",
    "    print(\"\\nRecording stopped manually.\")\n",
    "\n",
    "stream.stop()\n",
    "stream.close()\n",
    "\n",
    "# Combine chunks into a single array and save as WAV file\n",
    "if data:\n",
    "    recording_data = np.concatenate(data, axis=0)\n",
    "    wav.write('output.wav', fs, recording_data)\n",
    "    print(\"Recording saved as 'output.wav'\")\n",
    "else:\n",
    "    print(\"No voice activity detected.\")\n"
   ]
  },
  {
   "cell_type": "code",
   "execution_count": 55,
   "id": "09c89b8a",
   "metadata": {},
   "outputs": [
    {
     "name": "stdout",
     "output_type": "stream",
     "text": [
      "The file output.wav exists.\n"
     ]
    }
   ],
   "source": [
    "import os\n",
    "\n",
    "file_path = \"output.wav\"\n",
    "\n",
    "if os.path.exists(file_path):\n",
    "    print(f\"The file {file_path} exists.\")\n",
    "else:\n",
    "    print(f\"The file {file_path} does not exist.\")\n"
   ]
  },
  {
   "cell_type": "code",
   "execution_count": 36,
   "id": "2ca47a8f",
   "metadata": {},
   "outputs": [],
   "source": [
    "# Load start and end sounds\n",
    "start_sound, _ = wav.read('start_sound.wav')\n",
    "end_sound, _ = wav.read('end_sound.wav')\n",
    "\n",
    "# Function to play a sound\n",
    "def play_sound(sound):\n",
    "    sd.play(sound, fs)\n",
    "    sd.wait()\n",
    "    \n",
    "play_sound(start_sound)"
   ]
  },
  {
   "cell_type": "code",
   "execution_count": 28,
   "id": "c81b4f44",
   "metadata": {},
   "outputs": [
    {
     "name": "stdout",
     "output_type": "stream",
     "text": [
      "Requirement already satisfied: sounddevice in c:\\users\\mario\\appdata\\local\\programs\\python\\python311\\lib\\site-packages (0.4.6)\n",
      "Requirement already satisfied: CFFI>=1.0 in c:\\users\\mario\\appdata\\local\\programs\\python\\python311\\lib\\site-packages (from sounddevice) (1.15.1)\n",
      "Requirement already satisfied: pycparser in c:\\users\\mario\\appdata\\local\\programs\\python\\python311\\lib\\site-packages (from CFFI>=1.0->sounddevice) (2.21)\n"
     ]
    }
   ],
   "source": [
    "!pip install sounddevice\n"
   ]
  },
  {
   "cell_type": "code",
   "execution_count": 33,
   "id": "69db610c",
   "metadata": {},
   "outputs": [
    {
     "name": "stdout",
     "output_type": "stream",
     "text": [
      "The sampling rate of end_sound.wav is 44100 Hz.\n"
     ]
    }
   ],
   "source": [
    "import wave\n",
    "\n",
    "file_path = 'end_sound.wav'  # Replace with the actual path to your WAV file\n",
    "\n",
    "with wave.open(file_path, 'rb') as wf:\n",
    "    fs = wf.getframerate()\n",
    "    print(f\"The sampling rate of {file_path} is {fs} Hz.\")\n"
   ]
  },
  {
   "cell_type": "code",
   "execution_count": 37,
   "id": "5dbd4b64",
   "metadata": {},
   "outputs": [],
   "source": [
    "import sounddevice as sd\n",
    "import scipy.io.wavfile as wav\n",
    "\n",
    "# Load start and end sounds\n",
    "fs, start_sound = wav.read('start_sound.wav')\n",
    "_, end_sound = wav.read('end_sound.wav')\n",
    "\n",
    "# Function to play a sound\n",
    "def play_sound(sound, fs):\n",
    "    try:\n",
    "        sd.play(sound, fs)\n",
    "        sd.wait()\n",
    "    except Exception as e:\n",
    "        print(f\"Error: {e}\")\n",
    "\n",
    "play_sound(start_sound, fs)\n"
   ]
  },
  {
   "cell_type": "code",
   "execution_count": 49,
   "id": "763b4225",
   "metadata": {},
   "outputs": [],
   "source": [
    "import numpy as np\n",
    "import sounddevice as sd\n",
    "\n",
    "# Generate a test sound (1-second beep at 440 Hz)\n",
    "fs = 44100  # Sample rate\n",
    "duration = 0.2  # seconds\n",
    "frequency = 440  # Hz\n",
    "t = np.linspace(0, duration, int(fs * duration), endpoint=False)\n",
    "beep_sound = np.sin(2 * np.pi * frequency * t)\n",
    "\n",
    "def play_sound(end_sound, fs):\n",
    "    try:\n",
    "        sd.play(end_sound, fs)\n",
    "        sd.wait()\n",
    "    except Exception as e:\n",
    "        print(f\"Error: {e}\")\n",
    "\n",
    "play_sound(beep_sound, fs)\n"
   ]
  },
  {
   "cell_type": "code",
   "execution_count": 58,
   "id": "b1610898",
   "metadata": {},
   "outputs": [],
   "source": [
    "frequency_start = 440  # Hz\n",
    "frequency_end = 880  # Hz\n",
    "chirp_sound = np.sin(2 * np.pi * np.linspace(frequency_start, frequency_end, int(fs * duration)) * t)\n",
    "play_sound(chirp_sound)\n"
   ]
  },
  {
   "cell_type": "code",
   "execution_count": 61,
   "id": "56daa468",
   "metadata": {},
   "outputs": [],
   "source": [
    "fs = 44100  # Sample rate\n",
    "duration = 0.1  # Short duration for a quick click sound\n",
    "\n",
    "# Generate a click sound\n",
    "t = np.linspace(0, duration, int(fs * duration), endpoint=False)\n",
    "click_sound = np.sin(2 * np.pi * 1000 * t) * np.exp(-t * 50)\n",
    "\n",
    "play_sound(click_sound)"
   ]
  },
  {
   "cell_type": "code",
   "execution_count": null,
   "id": "35312f5b",
   "metadata": {},
   "outputs": [],
   "source": []
  }
 ],
 "metadata": {
  "kernelspec": {
   "display_name": "Python 3 (ipykernel)",
   "language": "python",
   "name": "python3"
  },
  "language_info": {
   "codemirror_mode": {
    "name": "ipython",
    "version": 3
   },
   "file_extension": ".py",
   "mimetype": "text/x-python",
   "name": "python",
   "nbconvert_exporter": "python",
   "pygments_lexer": "ipython3",
   "version": "3.11.3"
  }
 },
 "nbformat": 4,
 "nbformat_minor": 5
}
