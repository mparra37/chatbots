{
 "cells": [
  {
   "cell_type": "code",
   "execution_count": 1,
   "id": "e1d9465c",
   "metadata": {},
   "outputs": [],
   "source": [
    "#!pip install python-dotenv"
   ]
  },
  {
   "cell_type": "code",
   "execution_count": 2,
   "id": "66d54f0d",
   "metadata": {},
   "outputs": [],
   "source": [
    "#!pip install openai"
   ]
  },
  {
   "cell_type": "code",
   "execution_count": 3,
   "id": "2f73d23a",
   "metadata": {},
   "outputs": [],
   "source": [
    "import os\n",
    "import openai\n",
    "\n"
   ]
  },
  {
   "cell_type": "code",
   "execution_count": 4,
   "id": "9311bd22",
   "metadata": {},
   "outputs": [],
   "source": [
    "from dotenv import load_dotenv, find_dotenv\n",
    "_ = load_dotenv(find_dotenv())\n",
    "openai.api_key = os.environ['OPENAI_API_KEY']"
   ]
  },
  {
   "cell_type": "code",
   "execution_count": 5,
   "id": "3106c9e8",
   "metadata": {},
   "outputs": [],
   "source": [
    "def get_completion(prompt, model=\"gpt-3.5-turbo\"):\n",
    "    messages = [{\"role\": \"user\", \"content\": prompt}]\n",
    "    response = openai.ChatCompletion.create(\n",
    "        model=model,\n",
    "        messages=messages,\n",
    "        temperature=0\n",
    "    )\n",
    "    return response.choices[0].message[\"content\"]"
   ]
  },
  {
   "cell_type": "code",
   "execution_count": 6,
   "id": "ff8e1c8c",
   "metadata": {},
   "outputs": [
    {
     "name": "stdout",
     "output_type": "stream",
     "text": [
      "1. ¡Hola! Bienvenido. Mi nombre es MyndFood y hoy te ayudaré a preparar sushi. ¿Estás listo para empezar?\n",
      "2. Hoy vamos a preparar un rollo de sushi al estilo maki. Lo haremos utilizando una técnica de cocina consciente y durante esta experiencia, te guiaré para que uses todos tus sentidos y puedas disfrutar plenamente de tu comida.\n",
      "3. Antes de comenzar a cocinar, tomemos un momento para respirar profundamente. Intenta seguir la imagen mientras inhalas y exhalas. Avísame cuando estés listo para continuar.\n",
      "4. Para empezar, seleccionaremos el tipo de sushi. Puedes elegir entre sushi de surimi o sushi vegetariano. ¿Qué opción te gustaría elegir?\n",
      "5. Comencemos con los ingredientes. Sería mejor si tuvieras lo siguiente: arroz, surimi, pepino, queso crema y alga nori. Avísame cuando los tengas todos a la vista.\n",
      "6. Prepara el arroz para sushi. Ahora, tómate unos segundos para sentir la consistencia del arroz. Avísame qué piensas sobre su textura. [Espera respuesta del usuario]\n",
      "7. Corta un tercio del pepino en tiras delgadas. Si necesitas ayuda adicional, no dudes en pedirme que te muestre un video sobre cómo hacerlo. Mientras haces este proceso, enfoca todos tus sentidos en la comida. Observa el color del pepino y nota cómo su aroma entra en tu nariz.\n",
      "8. El siguiente paso es cortar el surimi en rectángulos delgados. Mientras haces este paso, presta atención completa a la comida y nota cómo su fuerte olor entra en tu nariz. Luego, avísame qué piensas sobre el olor del surimi.\n",
      "9. Muy bien, ahora deberías tener todos tus ingredientes listos. Recuerda usar todos tus sentidos durante este proceso. Por eso, te ayudaré con un par de preguntas que espero que puedas responder en voz alta. Avísame \"siguiente\" para continuar.\n",
      "10. Ahora, tomémonos un momento para apreciar los ingredientes. Por favor, tómate unos segundos para observarlos detenidamente. ¿Podrías decirme los colores que puedes ver?\n",
      "11. Ahora, tómate unos segundos para apreciar los diferentes olores. Puedes tomar los ingredientes y acercarlos a tu nariz. Finalmente, por favor dime qué olor te gusta más o puedes identificar rápidamente.\n",
      "12. Para los siguientes pasos, asegúrate de prestar atención a tu sentido del tacto. ¿Podrías intentar sentir la textura de los ingredientes y herramientas que vas a usar? ¿Estás listo para continuar con la preparación?\n",
      "13. El siguiente paso es usar la esterilla de bambú. ¿Podrías tomarla y colocarla de manera que las barras estén en posición horizontal? La cubierta de plástico es para evitar manchas.\n",
      "14. Ahora, toma una hoja de alga nori y colócala sobre la esterilla. El lado más largo del alga debe estar preferiblemente alineado con la esterilla. ¿Podrías asegurarte de que el lado rugoso o abultado esté hacia arriba?\n",
      "15. Para el siguiente paso, te recomiendo humedecer tus dedos cada vez. Con tus manos, extiende una capa de arroz sobre la esterilla. No tiene que ser perfecto. Asegúrate de dejar un área sin cubrir en la parte superior del alga. Mientras haces este proceso, intenta prestar atención a la sensación del arroz en tus dedos. Siente su textura y cómo algunos granos se pegan a tus manos. También presta atención al olor distinguible y concéntrate en observar cómo el alga está completamente cubierta de arroz.\n",
      "16. Ahora, es hora de colocar los ingredientes sobre el arroz. Puedes elegir tus favoritos y colocarlos horizontalmente cerca de la parte inferior del alga. Recuerda, no es necesario usar todos los rellenos, llena una o dos líneas horizontales por ingrediente.\n",
      "17. ¿Podrías usar cuidadosamente la esterilla para enrollar el sushi? Asegúrate de que los ingredientes estén completamente envueltos dentro del alga. Enróllalo varias veces y aplica una suave presión para darle forma. Cuando apliques presión con la esterilla, siente cómo el arroz y los ingredientes se comprimen para formar el rollo de sushi. Observa el rollo de cerca y usa tus manos para sentir cómo toma forma.\n",
      "18. Una vez que el rollo de sushi esté listo, es hora de hacer los cortes. Usa un cuchillo mojado para cada corte. Corta aproximadamente una rodaja del grosor de un dedo del rollo. Siente cómo el cuchillo corta suavemente a través de los ingredientes. También observa cuidadosamente cómo se disponen las piezas de sushi y siente la textura del alga. Por favor, observa de cerca el sushi cortado con todos sus ingredientes.\n",
      "19. ¡Listo! Coloca las piezas de sushi en un plato para disfrutarlas. Mientras las pruebas, recuerda usar todos tus sentidos para experimentar los sabores plenamente. Te sugeriría acompañarlo con salsa de soja o cualquier aderezo que prefieras.\n",
      "20. Por favor, recuerda observar cuidadosamente el sushi. Nota los olores a medida que se acerca a tu nariz. Siente la textura dentro de tu boca. Y cuando lo pruebes, avísame qué piensas sobre su sabor.\n"
     ]
    }
   ],
   "source": [
    "ejemplo = f\"\"\"1.\tHello! Welcome. My name is MyndFood, and today, I will help you prepare sushi. Are you ready to start?\n",
    "2.\tToday, we are going to prepare a maki-style sushi roll. We will do it using a mindful cooking technique, and during this experience, I will guide you to use all your senses so you can fully enjoy your food.\n",
    "3.\tBefore we begin cooking, let's take a moment to breathe deeply. Try to follow the image while inhaling and exhaling. Let me know when you're ready to continue.\n",
    "4.\tTo start, we will select the type of sushi. You can choose between surimi sushi or vegetarian sushi. Which option would you like to choose?\n",
    "5.\tLet's begin with the ingredients. It would be best if you had the following: rice, surimi, cucumber, cream cheese, and nori seaweed. Let me know when you have all of them in sight.\n",
    "6.\tPrepare the rice for sushi. Now, take a few seconds to feel the consistency of the rice. Let me know what you think about its texture. [user response expected]\n",
    "7.\tCut one-third of the cucumber into thin strips. If you need extra help, please feel free to ask me to show you a video on how to do it. While doing this process, focus all your senses on the food. Observe the color of the cucumber and notice how its aroma enters your nose.\n",
    "8.\tNext step, cut the surimi into thin rectangles. As you do this step, pay full attention to the food and notice how its strong smell enters your nose. Then, let me know what you think about the smell of the surimi.\n",
    "9.\tVery well, you should have all your ingredients ready now. Remember to use all your senses during this process. That's why I will help you with a couple of questions that I hope you can answer out loud. Let me know \"next\" to continue.\n",
    "10.\tNow, let's take a moment to appreciate the ingredients. Please take a few seconds to observe them carefully. Could you tell me the colors you can see?\n",
    "11.\tNow, take a few seconds to appreciate the different smells. You can take the ingredients and bring them closer to your nose. Finally, please tell me which smell you like the most or can quickly identify.\n",
    "12.\tFor the next steps, please be sure to pay attention to your sense of touch. Could you try to feel the texture of the ingredients and tools you're going to use? Are you ready to continue with the preparation?\n",
    "13.\tThe next step is to use the bamboo mat. Could you take it and place it so that the bars are in a horizontal position? The plastic covering is to prevent stains.\n",
    "14.\tNow, take a sheet of nori seaweed and place it on the mat. The longest side of the seaweed should preferably be aligned with the mat. Could you make sure the rough or bumpy side is facing up?\n",
    "15.\tFor the next step, I recommend moistening your fingertips each time. With your hands, spread a layer of rice onto the mat. It doesn't have to be perfect. Make sure to leave an uncovered area at the top of the seaweed. While doing this process, try to pay attention to the sensation of the rice on your fingers. Feel its texture and how some grains stick to your hands. Also, pay attention to the distinguishable smell and focus on observing how the seaweed is completely covered with rice.\n",
    "16.\tNow, it's time to place the ingredients on the rice. You can choose your favorite ones and lay them horizontally near the bottom part of the seaweed. Remember, you don't have to use all the fillings, fill one or two horizontal lines per ingredient.\n",
    "17.\tCould you carefully use the mat to roll the sushi? Make sure the ingredients are entirely enclosed within the seaweed. Roll it several times and apply gentle pressure to give it shape. When you apply pressure with the mat, feel how the rice and ingredients compress to form the sushi roll. Observe the roll closely and use your hands to feel how it takes its shape.\n",
    "18.\tOnce the sushi roll is ready, it's time to make the cuts. Use a wet knife for each cut. Cut approximately one finger-thick slice from the roll. Feel how the knife gently cuts through the ingredients. Also, observe carefully how the sushi pieces are arranged and feel the texture of the seaweed. Please take a close look at the sushi cut with all its ingredients.\n",
    "19.\tDone! Place the sushi pieces on a plate to enjoy them. While tasting them, remember to use all your senses to experience the flavors fully. I would suggest accompanying it with soy sauce or any dressing you prefer.\n",
    "20.\tPlease remember to observe the sushi carefully. Notice the smells as it approaches your nose. Feel the texture inside your mouth. And when you taste it, let me know what you think about its flavor.\n",
    "\n",
    "\n",
    "\"\"\"\n",
    "response = get_completion(\"traduce lo siguiente a español\" + ejemplo);\n",
    "print(response)"
   ]
  },
  {
   "cell_type": "code",
   "execution_count": 7,
   "id": "ead14c96",
   "metadata": {},
   "outputs": [
    {
     "name": "stdout",
     "output_type": "stream",
     "text": [
      "1. ¡Hola! Bienvenido. Mi nombre es MyndWine y hoy te guiaré en una experiencia mindful de degustación de vino tinto Merlot. ¿Estás listo para comenzar?\n",
      "2. Antes de comenzar, tomemos un momento para respirar profundamente. Intenta seguir la imagen mientras inhalas y exhalas. Avísame cuando estés listo para continuar.\n",
      "3. Hoy vamos a explorar el vino tinto Merlot, un vino suave y afrutado. Este vino es perfecto para aquellos que están comenzando a adentrarse en el mundo de los vinos tintos. Durante esta experiencia, te guiaré para que uses todos tus sentidos y puedas disfrutar plenamente de esta bebida.\n",
      "4. Comencemos por observar el vino. Toma la copa de vino y sosténla frente a la luz. Observa el color del vino, ¿qué tonalidades puedes identificar? Tómate unos segundos para apreciar su belleza visual.\n",
      "5. Ahora, acerca la copa a tu nariz y huele el vino. ¿Puedes identificar los aromas que emanan de él? Intenta describirlos en voz alta o en tu mente. Permítete sumergirte en los diferentes aromas y disfrutar de la experiencia olfativa.\n",
      "6. Ahora, es momento de saborear el vino. Toma un sorbo pequeño y déjalo reposar en tu boca por unos segundos. Siente cómo el vino se extiende por tu paladar y presta atención a los sabores que puedes identificar. ¿Puedes notar notas frutales, especiadas o terrosas? Describe los sabores que percibes.\n",
      "7. Mientras saboreas el vino, también presta atención a su textura. ¿Es suave y sedoso en boca o tiene una sensación más robusta y tánica? Tómate un momento para apreciar la sensación en tu paladar.\n",
      "8. Ahora, traga el vino y observa cómo los sabores persisten en tu boca. ¿Puedes identificar algún sabor residual o alguna sensación en particular? Permítete disfrutar de este momento y reflexionar sobre la experiencia sensorial que acabas de tener.\n",
      "9. Para profundizar en la experiencia, te invito a cerrar los ojos y tomar otro sorbo de vino. Concéntrate en los sabores y las sensaciones que experimentas. Permítete sumergirte completamente en el vino y disfrutar de cada momento.\n",
      "10. Ahora, me gustaría que compartieras tus pensamientos y sensaciones sobre este vino Merlot. ¿Qué te ha parecido? ¿Te ha gustado su sabor y textura? ¿Hay algo en particular que hayas disfrutado o te haya sorprendido?\n",
      "11. Como sommelier, me gustaría recomendarte algunos maridajes para este vino Merlot. Puedes disfrutarlo con carnes rojas, quesos suaves o incluso chocolate oscuro. Te animo a que pruebes diferentes combinaciones y descubras tus preferencias personales.\n",
      "12. Antes de concluir esta experiencia, tómate un momento para agradecer al vino y a ti mismo por haber dedicado tiempo a disfrutar plenamente de esta degustación. Respira profundamente y siente la gratitud en tu corazón.\n",
      "13. ¡Enhorabuena! Has completado esta experiencia mindful de degustación de vino tinto Merlot. Espero que hayas disfrutado y que hayas descubierto nuevos sabores y sensaciones. Recuerda que siempre puedes repetir esta experiencia en el futuro y seguir explorando el mundo de los vinos. ¡Salud!\n"
     ]
    }
   ],
   "source": [
    "wine_tasting = get_completion(\"Esto es un ejemplo de una experiencia mindful para preparar sushi \" + response + \". Ahora, crea un script con una experiencia similiar en la que un sommelier guía una degustación de un vino tinto merlot con un novato de los vinos. ¿Cómo sería esa experiencia?\");\n",
    "print(wine_tasting)"
   ]
  },
  {
   "cell_type": "code",
   "execution_count": 8,
   "id": "0047f6a0",
   "metadata": {},
   "outputs": [
    {
     "name": "stdout",
     "output_type": "stream",
     "text": [
      "<!DOCTYPE html>\n",
      "<html>\n",
      "<head>\n",
      "<title>Experiencia mindful de degustación de vino tinto Merlot</title>\n",
      "</head>\n",
      "<body>\n",
      "<h1>Experiencia mindful de degustación de vino tinto Merlot</h1>\n",
      "<p>1. ¡Hola! Bienvenido. Mi nombre es MyndWine y hoy te guiaré en una experiencia mindful de degustación de vino tinto Merlot. ¿Estás listo para comenzar?</p>\n",
      "<p>2. Antes de comenzar, tomemos un momento para respirar profundamente. Intenta seguir la imagen mientras inhalas y exhalas. Avísame cuando estés listo para continuar.</p>\n",
      "<p>3. Hoy vamos a explorar el vino tinto Merlot, un vino suave y afrutado. Este vino es perfecto para aquellos que están comenzando a adentrarse en el mundo de los vinos tintos. Durante esta experiencia, te guiaré para que uses todos tus sentidos y puedas disfrutar plenamente de esta bebida.</p>\n",
      "<p>4. Comencemos por observar el vino. Toma la copa de vino y sosténla frente a la luz. Observa el color del vino, ¿qué tonalidades puedes identificar? Tómate unos segundos para apreciar su belleza visual.</p>\n",
      "<p>5. Ahora, acerca la copa a tu nariz y huele el vino. ¿Puedes identificar los aromas que emanan de él? Intenta describirlos en voz alta o en tu mente. Permítete sumergirte en los diferentes aromas y disfrutar de la experiencia olfativa.</p>\n",
      "<p>6. Ahora, es momento de saborear el vino. Toma un sorbo pequeño y déjalo reposar en tu boca por unos segundos. Siente cómo el vino se extiende por tu paladar y presta atención a los sabores que puedes identificar. ¿Puedes notar notas frutales, especiadas o terrosas? Describe los sabores que percibes.</p>\n",
      "<p>7. Mientras saboreas el vino, también presta atención a su textura. ¿Es suave y sedoso en boca o tiene una sensación más robusta y tánica? Tómate un momento para apreciar la sensación en tu paladar.</p>\n",
      "<p>8. Ahora, traga el vino y observa cómo los sabores persisten en tu boca. ¿Puedes identificar algún sabor residual o alguna sensación en particular? Permítete disfrutar de este momento y reflexionar sobre la experiencia sensorial que acabas de tener.</p>\n",
      "<p>9. Para profundizar en la experiencia, te invito a cerrar los ojos y tomar otro sorbo de vino. Concéntrate en los sabores y las sensaciones que experimentas. Permítete sumergirte completamente en el vino y disfrutar de cada momento.</p>\n",
      "<p>10. Ahora, me gustaría que compartieras tus pensamientos y sensaciones sobre este vino Merlot. ¿Qué te ha parecido? ¿Te ha gustado su sabor y textura? ¿Hay algo en particular que hayas disfrutado o te haya sorprendido?</p>\n",
      "<p>11. Como sommelier, me gustaría recomendarte algunos maridajes para este vino Merlot. Puedes disfrutarlo con carnes rojas, quesos suaves o incluso chocolate oscuro. Te animo a que pruebes diferentes combinaciones y descubras tus preferencias personales.</p>\n",
      "<p>12. Antes de concluir esta experiencia, tómate un momento para agradecer al vino y a ti mismo por haber dedicado tiempo a disfrutar plenamente de esta degustación. Respira profundamente y siente la gratitud en tu corazón.</p>\n",
      "<p>13. ¡Enhorabuena! Has completado esta experiencia mindful de degustación de vino tinto Merlot. Espero que hayas disfrutado y que hayas descubierto nuevos sabores y sensaciones. Recuerda que siempre puedes repetir esta experiencia en el futuro y seguir explorando el mundo de los vinos. ¡Salud!</p>\n",
      "</body>\n",
      "</html>\n"
     ]
    }
   ],
   "source": [
    "wine_tasting_html = get_completion(\"convierte este texto en HTML: \" + wine_tasting)\n",
    "print(wine_tasting_html)"
   ]
  },
  {
   "cell_type": "code",
   "execution_count": 9,
   "id": "d26eda50",
   "metadata": {},
   "outputs": [],
   "source": [
    "from IPython.display import display, HTML"
   ]
  },
  {
   "cell_type": "code",
   "execution_count": 10,
   "id": "6b967452",
   "metadata": {},
   "outputs": [
    {
     "data": {
      "text/html": [
       "<!DOCTYPE html>\n",
       "<html>\n",
       "<head>\n",
       "<title>Experiencia mindful de degustación de vino tinto Merlot</title>\n",
       "</head>\n",
       "<body>\n",
       "<h1>Experiencia mindful de degustación de vino tinto Merlot</h1>\n",
       "<p>1. ¡Hola! Bienvenido. Mi nombre es MyndWine y hoy te guiaré en una experiencia mindful de degustación de vino tinto Merlot. ¿Estás listo para comenzar?</p>\n",
       "<p>2. Antes de comenzar, tomemos un momento para respirar profundamente. Intenta seguir la imagen mientras inhalas y exhalas. Avísame cuando estés listo para continuar.</p>\n",
       "<p>3. Hoy vamos a explorar el vino tinto Merlot, un vino suave y afrutado. Este vino es perfecto para aquellos que están comenzando a adentrarse en el mundo de los vinos tintos. Durante esta experiencia, te guiaré para que uses todos tus sentidos y puedas disfrutar plenamente de esta bebida.</p>\n",
       "<p>4. Comencemos por observar el vino. Toma la copa de vino y sosténla frente a la luz. Observa el color del vino, ¿qué tonalidades puedes identificar? Tómate unos segundos para apreciar su belleza visual.</p>\n",
       "<p>5. Ahora, acerca la copa a tu nariz y huele el vino. ¿Puedes identificar los aromas que emanan de él? Intenta describirlos en voz alta o en tu mente. Permítete sumergirte en los diferentes aromas y disfrutar de la experiencia olfativa.</p>\n",
       "<p>6. Ahora, es momento de saborear el vino. Toma un sorbo pequeño y déjalo reposar en tu boca por unos segundos. Siente cómo el vino se extiende por tu paladar y presta atención a los sabores que puedes identificar. ¿Puedes notar notas frutales, especiadas o terrosas? Describe los sabores que percibes.</p>\n",
       "<p>7. Mientras saboreas el vino, también presta atención a su textura. ¿Es suave y sedoso en boca o tiene una sensación más robusta y tánica? Tómate un momento para apreciar la sensación en tu paladar.</p>\n",
       "<p>8. Ahora, traga el vino y observa cómo los sabores persisten en tu boca. ¿Puedes identificar algún sabor residual o alguna sensación en particular? Permítete disfrutar de este momento y reflexionar sobre la experiencia sensorial que acabas de tener.</p>\n",
       "<p>9. Para profundizar en la experiencia, te invito a cerrar los ojos y tomar otro sorbo de vino. Concéntrate en los sabores y las sensaciones que experimentas. Permítete sumergirte completamente en el vino y disfrutar de cada momento.</p>\n",
       "<p>10. Ahora, me gustaría que compartieras tus pensamientos y sensaciones sobre este vino Merlot. ¿Qué te ha parecido? ¿Te ha gustado su sabor y textura? ¿Hay algo en particular que hayas disfrutado o te haya sorprendido?</p>\n",
       "<p>11. Como sommelier, me gustaría recomendarte algunos maridajes para este vino Merlot. Puedes disfrutarlo con carnes rojas, quesos suaves o incluso chocolate oscuro. Te animo a que pruebes diferentes combinaciones y descubras tus preferencias personales.</p>\n",
       "<p>12. Antes de concluir esta experiencia, tómate un momento para agradecer al vino y a ti mismo por haber dedicado tiempo a disfrutar plenamente de esta degustación. Respira profundamente y siente la gratitud en tu corazón.</p>\n",
       "<p>13. ¡Enhorabuena! Has completado esta experiencia mindful de degustación de vino tinto Merlot. Espero que hayas disfrutado y que hayas descubierto nuevos sabores y sensaciones. Recuerda que siempre puedes repetir esta experiencia en el futuro y seguir explorando el mundo de los vinos. ¡Salud!</p>\n",
       "</body>\n",
       "</html>"
      ],
      "text/plain": [
       "<IPython.core.display.HTML object>"
      ]
     },
     "metadata": {},
     "output_type": "display_data"
    }
   ],
   "source": [
    "display(HTML(wine_tasting_html))"
   ]
  },
  {
   "cell_type": "code",
   "execution_count": 11,
   "id": "fe1a49b4",
   "metadata": {},
   "outputs": [
    {
     "data": {
      "text/html": [
       "<!DOCTYPE html>\n",
       "<html>\n",
       "<head>\n",
       "<title>Degustación de vino tinto Merlot</title>\n",
       "</head>\n",
       "<body>\n",
       "<h1>¡Hola, hola! ¡Bienvenido a bordo de esta aventura vinícola!</h1>\n",
       "<p>Soy MyndWine, tu guía experto en vinos y hoy te llevaré en un viaje de degustación de vino tinto Merlot. ¿Estás listo para zarpar?</p>\n",
       "\n",
       "<h2>Antes de comenzar</h2>\n",
       "<p>Vamos a tomarnos un momentito para respirar profundamente. Imagina que estás en un viñedo rodeado de uvas jugosas mientras inhalas y exhalas. ¡Avísame cuando estés listo para zarpar en esta experiencia vinícola!</p>\n",
       "\n",
       "<h2>Explorando el vino tinto Merlot</h2>\n",
       "<p>Hoy vamos a explorar el vino tinto Merlot, un vino suave y afrutado que te hará bailar en tu paladar. Este vino es perfecto para aquellos que están dando sus primeros pasos en el mundo de los tintos. Durante esta experiencia, te guiaré para que uses todos tus sentidos y puedas disfrutar de esta bebida como un verdadero experto.</p>\n",
       "\n",
       "<h2>Admirando el vino</h2>\n",
       "<p>¡Vamos a empezar por admirar el vino! Toma tu copa y sostenla frente a la luz como si estuvieras en una sesión de fotos para Instagram. Observa el color del vino, ¿qué tonalidades puedes identificar? Tómate unos segundos para apreciar su belleza visual y sentirte como un verdadero influencer del vino.</p>\n",
       "\n",
       "<h2>Olfateando el vino</h2>\n",
       "<p>Ahora, acerca la copa a tu nariz y dale un buen olfateo al vino. ¿Puedes identificar los aromas que salen de él? Intenta describirlos en voz alta o en tu mente, ¡pero no te los comas! Permítete sumergirte en los diferentes aromas y disfrutar de esta experiencia olfativa como si estuvieras en un jardín de frutas.</p>\n",
       "\n",
       "<h2>Saboreando el vino</h2>\n",
       "<p>¡Hora de saborear el vino, mi amigo! Toma un sorbito pequeño y déjalo reposar en tu boca por unos segundos. Siente cómo el vino se desliza por tu paladar y presta atención a los sabores que puedes identificar. ¿Puedes notar notas frutales, especiadas o terrosas? Describe los sabores que percibes, ¡pero no te lo tragues todo de un solo golpe!</p>\n",
       "\n",
       "<h2>Textura del vino</h2>\n",
       "<p>Mientras saboreas el vino, también presta atención a su textura. ¿Es suave y sedoso en boca o tiene una sensación más robusta y tánica? Tómate un momentito para apreciar la sensación en tu paladar y sentirte como un catador profesional.</p>\n",
       "\n",
       "<h2>Finalizando la degustación</h2>\n",
       "<p>Ahora, traga el vino y observa cómo los sabores persisten en tu boca. ¿Puedes identificar algún sabor residual o alguna sensación en particular? Permítete disfrutar de este momento y reflexionar sobre la experiencia sensorial que acabas de tener. ¡Sí, eres todo un experto en vinos ahora!</p>\n",
       "\n",
       "<h2>Sumergiéndote en el vino</h2>\n",
       "<p>Para profundizar en la experiencia, te invito a cerrar los ojos y tomar otro sorbo de vino. Concéntrate en los sabores y las sensaciones que experimentas. Permítete sumergirte completamente en el vino y disfrutar de cada momento como si estuvieras en una película romántica.</p>\n",
       "\n",
       "<h2>Comparte tus pensamientos</h2>\n",
       "<p>Ahora, me gustaría que compartieras tus pensamientos y sensaciones sobre este vino Merlot. ¿Qué te ha parecido? ¿Te ha gustado su sabor y textura? ¿Hay algo en particular que hayas disfrutado o te haya sorprendido? ¡Cuéntame todo, no te guardes nada!</p>\n",
       "\n",
       "<h2>Maridajes recomendados</h2>\n",
       "<p>Como sommelier, me gustaría recomendarte algunos maridajes para este vino Merlot. Puedes disfrutarlo con carnes rojas, quesos suaves o incluso chocolate oscuro. Te animo a que pruebes diferentes combinaciones y descubras tus preferencias personales. ¡La vida es demasiado corta para no disfrutar de buenos maridajes!</p>\n",
       "\n",
       "<h2>Conclusión de la experiencia</h2>\n",
       "<p>Antes de concluir esta experiencia, tómate un momentito para agradecer al vino y a ti mismo por haber dedicado tiempo a disfrutar plenamente de esta degustación. Respira profundamente y siente la gratitud en tu corazón, ¡y no olvides hacer una pequeña reverencia al vino!</p>\n",
       "\n",
       "<h2>Felicidades</h2>\n",
       "<p>¡Felicidades, campeón! Has completado esta experiencia mindful de degustación de vino tinto Merlot. Espero que hayas disfrutado y que hayas descubierto nuevos sabores y sensaciones. Recuerda que siempre puedes repetir esta experiencia en el futuro y seguir explorando el maravilloso mundo de los vinos. ¡Salud, aventurero del vino!</p>\n",
       "</body>\n",
       "</html>"
      ],
      "text/plain": [
       "<IPython.core.display.HTML object>"
      ]
     },
     "metadata": {},
     "output_type": "display_data"
    }
   ],
   "source": [
    "wine_tasting_blind = get_completion(\"En el siguiente texto agrega un tono divertido y entretenido para el sommelier. Texto: \" + wine_tasting)\n",
    "wine_tasting_blind_html = get_completion(\"convierte este texto en HTML: \" + wine_tasting_blind)\n",
    "display(HTML(wine_tasting_blind_html))"
   ]
  },
  {
   "cell_type": "code",
   "execution_count": null,
   "id": "d140a3d6",
   "metadata": {},
   "outputs": [],
   "source": []
  }
 ],
 "metadata": {
  "kernelspec": {
   "display_name": "Python 3 (ipykernel)",
   "language": "python",
   "name": "python3"
  },
  "language_info": {
   "codemirror_mode": {
    "name": "ipython",
    "version": 3
   },
   "file_extension": ".py",
   "mimetype": "text/x-python",
   "name": "python",
   "nbconvert_exporter": "python",
   "pygments_lexer": "ipython3",
   "version": "3.11.3"
  }
 },
 "nbformat": 4,
 "nbformat_minor": 5
}
